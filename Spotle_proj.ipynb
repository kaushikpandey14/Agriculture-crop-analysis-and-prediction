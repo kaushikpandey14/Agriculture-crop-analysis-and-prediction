{
  "nbformat": 4,
  "nbformat_minor": 0,
  "metadata": {
    "colab": {
      "name": "Spotle_proj.ipynb",
      "provenance": [],
      "collapsed_sections": [],
      "toc_visible": true
    },
    "kernelspec": {
      "name": "python3",
      "display_name": "Python 3"
    },
    "language_info": {
      "name": "python"
    }
  },
  "cells": [
    {
      "cell_type": "code",
      "metadata": {
        "id": "2nH0cQlkLVlw"
      },
      "source": [
        "import numpy as np\n",
        "import pandas as pd\n",
        "import matplotlib.pyplot as plt\n"
      ],
      "execution_count": 122,
      "outputs": []
    },
    {
      "cell_type": "code",
      "metadata": {
        "id": "njDGRMMeL4ct"
      },
      "source": [
        "data = pd.read_csv('state-wise-crop-production-India.csv')"
      ],
      "execution_count": 123,
      "outputs": []
    },
    {
      "cell_type": "markdown",
      "metadata": {
        "id": "PBmMJTNt6DLg"
      },
      "source": [
        "#Find the average production of the crops in India.\n"
      ]
    },
    {
      "cell_type": "code",
      "metadata": {
        "colab": {
          "base_uri": "https://localhost:8080/"
        },
        "id": "RM7ct22GGXMa",
        "outputId": "9082042b-d418-4323-f47b-bdfecce8fcdd"
      },
      "source": [
        "total_crop_prod = data['Production'].sum()/14\n",
        "print('Average production of the crops in India is '+str(round(total_crop_prod,2)) +' Tonnes')"
      ],
      "execution_count": 124,
      "outputs": [
        {
          "output_type": "stream",
          "text": [
            "Average production of the crops in India is 8528101538.58 Tonnes\n"
          ],
          "name": "stdout"
        }
      ]
    },
    {
      "cell_type": "markdown",
      "metadata": {
        "id": "GFzz-zBN5_DJ"
      },
      "source": [
        "# Which crop has maximum yield (Tonnes / Hectare)?"
      ]
    },
    {
      "cell_type": "code",
      "metadata": {
        "colab": {
          "base_uri": "https://localhost:8080/"
        },
        "id": "ce6czx33O3dB",
        "outputId": "4a29a7b7-c16a-4ae3-ff9e-8e7dc48e9384"
      },
      "source": [
        "data['Yield']=data['Production']/data['Area']\n",
        "max_yield = data['Yield'].max()\n",
        "\n",
        "max_crop_details= data[data['Yield'].isin([max_yield])]\n",
        "print( 'The state with maximum yield is in '+max_crop_details['State'].values[0]+ ' With total yield of '+str(max_yield)+' Tonnes/Hectare in the year '+str(max_crop_details['Year'].values[0])+' for '+str(max_crop_details['Crop'].values[0]))"
      ],
      "execution_count": 125,
      "outputs": [
        {
          "output_type": "stream",
          "text": [
            "The state with maximum yield is in Punjab With total yield of 70662.5 Tonnes/Hectare in the year 2011 for Sugarcane\n"
          ],
          "name": "stdout"
        }
      ]
    },
    {
      "cell_type": "markdown",
      "metadata": {
        "id": "SiykAJps6vK_"
      },
      "source": [
        "# Write a comparative study on Rice production between Odisha and West Bengal"
      ]
    },
    {
      "cell_type": "code",
      "metadata": {
        "id": "MGD4nk8n5su6"
      },
      "source": [
        "data_rice_prod = data[data['Crop'].isin(['Rice'])]\n",
        "State_list_rice=data_rice_prod['State'].unique()\n",
        "data_rice_prod_Odisha = data_rice_prod[data_rice_prod['State'].isin(['Odisha'])]\n",
        "data_rice_prod_WestB = data_rice_prod[data_rice_prod['State'].isin(['West Bengal'])]"
      ],
      "execution_count": 126,
      "outputs": []
    },
    {
      "cell_type": "markdown",
      "metadata": {
        "id": "ROG2pFAgvp1b"
      },
      "source": [
        "In below code cell we are finding the ranking of state according to there average production of rice."
      ]
    },
    {
      "cell_type": "code",
      "metadata": {
        "colab": {
          "base_uri": "https://localhost:8080/"
        },
        "id": "1dDgsgVXp6Gy",
        "outputId": "b305b582-1020-4eda-d55a-52fae8314cdb"
      },
      "source": [
        "mean_production_list_rice=[]\n",
        "\n",
        "for x in State_list_rice:\n",
        "  data1 = data[data['Crop'].isin(['Rice'])]\n",
        "  state_data = data1[data1['State'].isin([x])]\n",
        "  state_mean_production=state_data['Production'].mean()\n",
        "  mean_production_list_rice.append([x,state_mean_production])\n",
        "\n",
        "Datalist_mean_rice_production=pd.DataFrame(mean_production_list_rice,columns =['State', 'Avg production'])\n",
        "print(Datalist_mean_rice_production.nlargest(5,'Avg production'))\n",
        "print('From above we can draw conclusion that West Bengal rank 1st and odisha rank 5th in rice production PAN india')"
      ],
      "execution_count": 127,
      "outputs": [
        {
          "output_type": "stream",
          "text": [
            "             State  Avg production\n",
            "32     West Bengal    1.441807e+07\n",
            "30   Uttar Pradesh    1.216708e+07\n",
            "24          Punjab    1.028821e+07\n",
            "1   Andhra Pradesh    7.524632e+06\n",
            "22          Odisha    6.652170e+06\n",
            "From above we can draw conclusion that West Bengal rank 1st and odisha rank 5th in rice production PAN india\n"
          ],
          "name": "stdout"
        }
      ]
    },
    {
      "cell_type": "markdown",
      "metadata": {
        "id": "8ejItT08BIGg"
      },
      "source": [
        "In cell below we are visually describing production data from both state to draw conclusions "
      ]
    },
    {
      "cell_type": "code",
      "metadata": {
        "colab": {
          "base_uri": "https://localhost:8080/",
          "height": 295
        },
        "id": "3qrYf0VM8kOH",
        "outputId": "33d391db-153c-452b-a3e4-966cf5654f15"
      },
      "source": [
        "%matplotlib inline\n",
        "\n",
        "ax = data_rice_prod_Odisha.plot(x='Year',y='Production',label=\"Odisha\")\n",
        "data_rice_prod_WestB.plot(x='Year',y='Production',ax=ax,label=\"West Bengal\")\n",
        "\n",
        "plt.title('Rice Production West Bengal v/s Odisha')\n",
        "plt.xlabel('Year')\n",
        "plt.ylabel('Rice Production')\n",
        "plt.show()"
      ],
      "execution_count": 128,
      "outputs": [
        {
          "output_type": "display_data",
          "data": {
            "image/png": "[encoded data removed]",
            "text/plain": [
              "<Figure size 432x288 with 1 Axes>"
            ]
          },
          "metadata": {
            "tags": [],
            "needs_background": "light"
          }
        }
      ]
    },
    {
      "cell_type": "markdown",
      "metadata": {
        "id": "ZPOX3fHhAmoa"
      },
      "source": [
        "In cell below we are calculating mean of production data from both state to draw numerical conclusions "
      ]
    },
    {
      "cell_type": "code",
      "metadata": {
        "colab": {
          "base_uri": "https://localhost:8080/"
        },
        "id": "JnXO-EQ0Ajyr",
        "outputId": "1823779e-ffff-4e8c-ced4-703734846b40"
      },
      "source": [
        "mean_rice_yield_Odisha = data_rice_prod_Odisha['Production'].mean()\n",
        "mean_rice_yield_WestB = data_rice_prod_WestB['Production'].mean()\n",
        "print('Taking into consideration the mean data of 14 years the rice production of West Bengal is '+str(round(mean_rice_yield_WestB/mean_rice_yield_Odisha,2))+' times the rice production in Odisha' )"
      ],
      "execution_count": 129,
      "outputs": [
        {
          "output_type": "stream",
          "text": [
            "Taking into consideration the mean data of 14 years the rice production of West Bengal is 2.17 times the rice production in Odisha\n"
          ],
          "name": "stdout"
        }
      ]
    },
    {
      "cell_type": "markdown",
      "metadata": {
        "id": "sB9Ss-8gGQUK"
      },
      "source": [
        "#Which State has the highest production of Wheat?\n"
      ]
    },
    {
      "cell_type": "code",
      "metadata": {
        "colab": {
          "base_uri": "https://localhost:8080/"
        },
        "id": "CDoF9hbKGTnG",
        "outputId": "fdf3c30f-11d7-4f6d-e042-aed91837df33"
      },
      "source": [
        "ab=data[data['Crop'].isin(['Wheat'])]\n",
        "State_list=ab['State'].unique() #here we have created list of state who produce wheat \n",
        "#print(State_list)\n",
        "\n",
        "#this list is created to store mean production of each wheat producing state over course of 14 years\n",
        "mean_production_list=[]\n",
        "\n",
        "for x in State_list:\n",
        "  data1 = data[data['Crop'].isin(['Wheat'])]\n",
        "  state_data = data1[data1['State'].isin([x])]\n",
        "  state_mean_production=state_data['Production'].mean()\n",
        "  mean_production_list.append(state_mean_production)\n",
        "max_wheat_production=max(mean_production_list)\n",
        "i=mean_production_list.index(max_wheat_production)\n",
        "\n",
        "#based on index of Max value of mean we have backtracked name of state.\n",
        "print( State_list[i]+' has maximum wheat production.')"
      ],
      "execution_count": 130,
      "outputs": [
        {
          "output_type": "stream",
          "text": [
            "Uttar Pradesh has maximum wheat production.\n"
          ],
          "name": "stdout"
        }
      ]
    },
    {
      "cell_type": "code",
      "metadata": {
        "colab": {
          "base_uri": "https://localhost:8080/",
          "height": 295
        },
        "id": "IAf2ZtQuWUMg",
        "outputId": "3e85a9c3-9462-4746-bec5-e1be0b0092e8"
      },
      "source": [
        "plt.bar(x=State_list,height=mean_production_list)\n",
        "plt.title('Production value of Wheat statewise')\n",
        "plt.xlabel('States')\n",
        "plt.ylabel('Wheat Production')\n",
        "plt.show()\n"
      ],
      "execution_count": 131,
      "outputs": [
        {
          "output_type": "display_data",
          "data": {
            "image/png": "[encoded data removed]",
            "text/plain": [
              "<Figure size 432x288 with 1 Axes>"
            ]
          },
          "metadata": {
            "tags": [],
            "needs_background": "light"
          }
        }
      ]
    },
    {
      "cell_type": "markdown",
      "metadata": {
        "id": "xEwJEswOYv3K"
      },
      "source": [
        "# Build a model to predict the production of Rice in 2014 for Andhra Pradesh, Uttar Pradesh and Tamil Nadu"
      ]
    },
    {
      "cell_type": "markdown",
      "metadata": {
        "id": "xa1CrPY7hkdU"
      },
      "source": [
        "preparing dataset for model development for each state"
      ]
    },
    {
      "cell_type": "code",
      "metadata": {
        "id": "p-EB7Yb2Y4AF"
      },
      "source": [
        "#from complete dataset segrigating rice data\n",
        "data_1= data[data['Crop'].isin(['Rice'])]\n",
        "model_data_Andhra_Pradesh= data_1[data_1['State'].isin(['Andhra Pradesh'])]\n",
        "model_data_Uttar_Pradesh = data_1[data_1['State'].isin(['Uttar Pradesh'])]\n",
        "model_data_Tamil_Nadu = data_1[data_1['State'].isin(['Tamil Nadu'])]\n"
      ],
      "execution_count": 132,
      "outputs": []
    },
    {
      "cell_type": "markdown",
      "metadata": {
        "id": "FMhYVSNOjgbh"
      },
      "source": [
        "preprocing and refining data and Implementing Random Forest Regressor\n",
        "\n"
      ]
    },
    {
      "cell_type": "code",
      "metadata": {
        "id": "8juyaQNPjOsl",
        "colab": {
          "base_uri": "https://localhost:8080/",
          "height": 312
        },
        "outputId": "f9dd1082-2c1c-4a09-ddbb-dbff0ac3909f"
      },
      "source": [
        "x = model_data_Andhra_Pradesh.iloc[:,[1,3]].values\n",
        "y = model_data_Andhra_Pradesh.iloc[:,4].values\n",
        "#print(x)\n",
        "#print(y)\n",
        "plt.scatter(x=x[:,0],y=y)\n",
        "from sklearn.ensemble import RandomForestRegressor\n",
        "regressor = RandomForestRegressor(n_estimators = 5, random_state = 0)\n",
        "regressor.fit(x, y)\n",
        "predict=regressor.predict([[2014,x[:,1].mean()]])\n",
        "print(predict[0])\n",
        "X_grid = np.arange(2000, 2015, 1)\n",
        "Y_grid=[]\n",
        "for xa in X_grid:\n",
        "  predict=regressor.predict([[xa,x[:,1].mean()]])\n",
        "  Y_grid.append(predict[0])\n",
        "\n",
        "plt.scatter(2014,predict, color = 'black')\n",
        "plt.plot(X_grid, Y_grid, color = 'black',label=\"predicted value\")\n",
        "plt.title('Andhra Pradesh Actual v/s Prediction(black)')\n",
        "plt.xlabel('Year')\n",
        "plt.ylabel('Rice Production')\n",
        "plt.show()"
      ],
      "execution_count": 133,
      "outputs": [
        {
          "output_type": "stream",
          "text": [
            "7709154.2\n"
          ],
          "name": "stdout"
        },
        {
          "output_type": "display_data",
          "data": {
            "image/png": "[encoded data removed]",
            "text/plain": [
              "<Figure size 432x288 with 1 Axes>"
            ]
          },
          "metadata": {
            "tags": [],
            "needs_background": "light"
          }
        }
      ]
    },
    {
      "cell_type": "code",
      "metadata": {
        "colab": {
          "base_uri": "https://localhost:8080/",
          "height": 312
        },
        "id": "OPclbqqUzext",
        "outputId": "04d77911-9607-41cf-ab5c-009a45f821a8"
      },
      "source": [
        "x1 = model_data_Uttar_Pradesh.iloc[:,[1,3]].values\n",
        "y1 = model_data_Uttar_Pradesh.iloc[:,4].values\n",
        "plt.scatter(x=x1[:,0],y=y1,label=\"Actual value\")\n",
        "from sklearn.ensemble import RandomForestRegressor\n",
        "regressor = RandomForestRegressor(n_estimators = 5, random_state = 0)\n",
        "regressor.fit(x1, y1)\n",
        "predict1=regressor.predict([[2014,x1[:,1].mean()]])\n",
        "X1_grid = np.arange(2000, 2015, 1)\n",
        "Y1_grid=[]\n",
        "for xb in X1_grid:\n",
        "  predict1=regressor.predict([[xb,x1[:,1].mean()]])\n",
        "  Y1_grid.append(predict1[0])\n",
        "\n",
        "print(predict1[0])\n",
        "plt.scatter(2014,predict1, color = 'black',label=\"predicted value\")\n",
        "plt.plot(X1_grid, Y1_grid, color = 'black',label=\"predicted value\")\n",
        "plt.title('Uttar Pradesh Actual value v/s Prediction value(black)')\n",
        "plt.xlabel('Year')\n",
        "plt.ylabel('Rice Production')\n",
        "plt.show()"
      ],
      "execution_count": 134,
      "outputs": [
        {
          "output_type": "stream",
          "text": [
            "13548553.0\n"
          ],
          "name": "stdout"
        },
        {
          "output_type": "display_data",
          "data": {
            "image/png": "[encoded data removed]",
            "text/plain": [
              "<Figure size 432x288 with 1 Axes>"
            ]
          },
          "metadata": {
            "tags": [],
            "needs_background": "light"
          }
        }
      ]
    },
    {
      "cell_type": "code",
      "metadata": {
        "id": "4loQfCZ5zgdp",
        "colab": {
          "base_uri": "https://localhost:8080/",
          "height": 295
        },
        "outputId": "b2a41bf5-b441-4bad-a416-7f9fdc07e7d5"
      },
      "source": [
        "x2 = model_data_Tamil_Nadu.iloc[:,[1,3]].values\n",
        "y2 = model_data_Tamil_Nadu.iloc[:,4].values\n",
        "plt.scatter(x=x2[:,0],y=y2)\n",
        "from sklearn.ensemble import RandomForestRegressor\n",
        "regressor = RandomForestRegressor(n_estimators = 10, random_state = 0)\n",
        "regressor.fit(x2, y2)\n",
        "predict2=regressor.predict([[2014,x2[:,1].mean()]])\n",
        "X2_grid = np.arange(2000, 2015, 1)\n",
        "Y2_grid=[]\n",
        "for xc in X2_grid:\n",
        "  predict2=regressor.predict([[xc,x2[:,1].mean()]])\n",
        "  Y2_grid.append(predict2[0])\n",
        "\n",
        "plt.scatter(2014,predict2, color = 'black')\n",
        "plt.plot(X2_grid, Y2_grid, color = 'black',label=\"predicted value\")\n",
        "plt.title('Tamil Nadu Actual value v/s Prediction value(black)')\n",
        "plt.xlabel('Year')\n",
        "plt.ylabel('Rice Production')\n",
        "plt.show()"
      ],
      "execution_count": 135,
      "outputs": [
        {
          "output_type": "display_data",
          "data": {
            "image/png": "[encoded data removed]",
            "text/plain": [
              "<Figure size 432x288 with 1 Axes>"
            ]
          },
          "metadata": {
            "tags": [],
            "needs_background": "light"
          }
        }
      ]
    },
    {
      "cell_type": "code",
      "metadata": {
        "id": "-gWfUTQjl-eN",
        "colab": {
          "base_uri": "https://localhost:8080/"
        },
        "outputId": "80777834-02b9-4241-d9e3-5c64d034850e"
      },
      "source": [
        "\n",
        "print('Predicted value for the production of Rice in 2014 for Andhra Pradesh is '+ str(predict[0])+ '(Tonnes), Uttar Pradesh is '+str(predict1[0])+'(Tonnes) and Tamil Nadu is '+str(predict2[0])+'(Tonnes)')"
      ],
      "execution_count": 136,
      "outputs": [
        {
          "output_type": "stream",
          "text": [
            "Predicted value for the production of Rice in 2014 for Andhra Pradesh is 7709154.2(Tonnes), Uttar Pradesh is 13548553.0(Tonnes) and Tamil Nadu is 6489482.1(Tonnes)\n"
          ],
          "name": "stdout"
        }
      ]
    }
  ]
}